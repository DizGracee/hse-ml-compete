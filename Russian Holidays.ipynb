{
 "cells": [
  {
   "cell_type": "markdown",
   "metadata": {},
   "source": [
    "# Подготовка данных о российских праздниках и выходных"
   ]
  },
  {
   "cell_type": "markdown",
   "metadata": {},
   "source": [
    "### Источник  – [Открытые Данные России](https://data.gov.ru/opendata/resource/8ba5011a-233e-4e01-a1d2-ff5598d0f34f#2/0.0/0.0)"
   ]
  },
  {
   "cell_type": "code",
   "execution_count": 17,
   "metadata": {},
   "outputs": [],
   "source": [
    "import pandas as pd"
   ]
  },
  {
   "cell_type": "code",
   "execution_count": 18,
   "metadata": {},
   "outputs": [],
   "source": [
    "holidays = pd.read_csv('https://raw.githubusercontent.com/DizGracee/hse-ml-compete/main/holidays_raw.csv')"
   ]
  },
  {
   "cell_type": "code",
   "execution_count": 19,
   "metadata": {},
   "outputs": [],
   "source": [
    "holidays = holidays[(holidays['Год/Месяц'] >= 2013) & (holidays['Год/Месяц'] <= 2015)]"
   ]
  },
  {
   "cell_type": "code",
   "execution_count": 20,
   "metadata": {},
   "outputs": [],
   "source": [
    "holidays2 = holidays.iloc[:, 1:-5]"
   ]
  },
  {
   "cell_type": "code",
   "execution_count": 21,
   "metadata": {},
   "outputs": [],
   "source": [
    "y2013 = holidays2.loc[14]\n",
    "y2014 = holidays2.loc[15]\n",
    "y2015 = holidays2.loc[16]"
   ]
  },
  {
   "cell_type": "code",
   "execution_count": 22,
   "metadata": {},
   "outputs": [],
   "source": [
    "y2013 = y2013.apply(lambda x: x.replace('*', '').split(','))\n",
    "y2014 = y2014.apply(lambda x: x.replace('*', '').split(','))\n",
    "y2015 = y2015.apply(lambda x: x.replace('*', '').split(','))"
   ]
  },
  {
   "cell_type": "code",
   "execution_count": 23,
   "metadata": {},
   "outputs": [],
   "source": [
    "dates = []\n",
    "for i in range(len(y2013)):\n",
    "    for j in range(len(y2013[i])):\n",
    "        dates.append(f'{y2013.index[i]} {y2013[i][j]}')\n",
    "for i in range(len(y2014)):\n",
    "    for j in range(len(y2014[i])):\n",
    "        dates.append(f'{y2014.index[i]} {y2014[i][j]}')\n",
    "for i in range(len(y2015)):\n",
    "    for j in range(len(y2015[i])):\n",
    "        dates.append(f'{y2015.index[i]} {y2015[i][j]}')"
   ]
  },
  {
   "cell_type": "code",
   "execution_count": 24,
   "metadata": {},
   "outputs": [],
   "source": [
    "for i in range(len(dates)):\n",
    "    if len(dates[i][dates[i].find(' ')+1:]) == 1:\n",
    "        dates[i] = dates[i].replace(' ', ' 0')\n",
    "    dates[i] = dates[i].split(' ')"
   ]
  },
  {
   "cell_type": "code",
   "execution_count": 25,
   "metadata": {},
   "outputs": [],
   "source": [
    "month = []\n",
    "day = []\n",
    "for i in range(len(dates)):\n",
    "    month.append(dates[i][0])\n",
    "    day.append(dates[i][1])\n",
    "for i in range(len(month)):\n",
    "    if month[i] == 'Январь':\n",
    "        month[i] = '01'\n",
    "    elif month[i] == 'Февраль':\n",
    "        month[i] = '02'\n",
    "    elif month[i] == 'Март':\n",
    "        month[i] = '03'\n",
    "    elif month[i] == 'Апрель':\n",
    "        month[i] = '04'\n",
    "    elif month[i] == 'Май':\n",
    "        month[i] = '05'\n",
    "    elif month[i] == 'Июнь':\n",
    "        month[i] = '06'\n",
    "    elif month[i] == 'Июль':\n",
    "        month[i] = '07'\n",
    "    elif month[i] == 'Август':\n",
    "        month[i] = '08'\n",
    "    elif month[i] == 'Сентябрь':\n",
    "        month[i] = '09'\n",
    "    elif month[i] == 'Октябрь':\n",
    "        month[i] = '10'\n",
    "    elif month[i] == 'Ноябрь':\n",
    "        month[i] = '11'\n",
    "    else:\n",
    "        month[i] = '12'"
   ]
  },
  {
   "cell_type": "code",
   "execution_count": 26,
   "metadata": {},
   "outputs": [],
   "source": [
    "ind = []\n",
    "for i in range(1, len(month)):\n",
    "    if month[i] == '01' and month[i-1] == '12':\n",
    "        ind.append(i)"
   ]
  },
  {
   "cell_type": "code",
   "execution_count": 27,
   "metadata": {},
   "outputs": [],
   "source": [
    "year = []\n",
    "for i in range(123):\n",
    "    year.append('2013')\n",
    "for i in range(123):\n",
    "    year.append('2014')\n",
    "for i in range(123):\n",
    "    year.append('2015')"
   ]
  },
  {
   "cell_type": "code",
   "execution_count": 31,
   "metadata": {},
   "outputs": [],
   "source": [
    "holidays_final = []\n",
    "for i in range(369):\n",
    "    holidays_final.append(f'{day[i]}.{month[i]}.{year[i]}')"
   ]
  },
  {
   "cell_type": "code",
   "execution_count": 32,
   "metadata": {},
   "outputs": [
    {
     "data": {
      "text/html": [
       "<div>\n",
       "<style scoped>\n",
       "    .dataframe tbody tr th:only-of-type {\n",
       "        vertical-align: middle;\n",
       "    }\n",
       "\n",
       "    .dataframe tbody tr th {\n",
       "        vertical-align: top;\n",
       "    }\n",
       "\n",
       "    .dataframe thead th {\n",
       "        text-align: right;\n",
       "    }\n",
       "</style>\n",
       "<table border=\"1\" class=\"dataframe\">\n",
       "  <thead>\n",
       "    <tr style=\"text-align: right;\">\n",
       "      <th></th>\n",
       "      <th>holidays</th>\n",
       "    </tr>\n",
       "  </thead>\n",
       "  <tbody>\n",
       "    <tr>\n",
       "      <th>0</th>\n",
       "      <td>01.01.2013</td>\n",
       "    </tr>\n",
       "    <tr>\n",
       "      <th>1</th>\n",
       "      <td>02.01.2013</td>\n",
       "    </tr>\n",
       "    <tr>\n",
       "      <th>2</th>\n",
       "      <td>03.01.2013</td>\n",
       "    </tr>\n",
       "    <tr>\n",
       "      <th>3</th>\n",
       "      <td>04.01.2013</td>\n",
       "    </tr>\n",
       "    <tr>\n",
       "      <th>4</th>\n",
       "      <td>05.01.2013</td>\n",
       "    </tr>\n",
       "  </tbody>\n",
       "</table>\n",
       "</div>"
      ],
      "text/plain": [
       "     holidays\n",
       "0  01.01.2013\n",
       "1  02.01.2013\n",
       "2  03.01.2013\n",
       "3  04.01.2013\n",
       "4  05.01.2013"
      ]
     },
     "execution_count": 32,
     "metadata": {},
     "output_type": "execute_result"
    }
   ],
   "source": [
    "holidays = pd.DataFrame({'holidays': holidays_final})\n",
    "holidays.head()"
   ]
  },
  {
   "cell_type": "code",
   "execution_count": 33,
   "metadata": {},
   "outputs": [],
   "source": [
    "#holidays.to_csv('holidays.csv', index=False)"
   ]
  },
  {
   "cell_type": "code",
   "execution_count": null,
   "metadata": {},
   "outputs": [],
   "source": []
  }
 ],
 "metadata": {
  "kernelspec": {
   "display_name": "Python 3",
   "language": "python",
   "name": "python3"
  },
  "language_info": {
   "codemirror_mode": {
    "name": "ipython",
    "version": 3
   },
   "file_extension": ".py",
   "mimetype": "text/x-python",
   "name": "python",
   "nbconvert_exporter": "python",
   "pygments_lexer": "ipython3",
   "version": "3.8.3"
  },
  "varInspector": {
   "cols": {
    "lenName": 16,
    "lenType": 16,
    "lenVar": 40
   },
   "kernels_config": {
    "python": {
     "delete_cmd_postfix": "",
     "delete_cmd_prefix": "del ",
     "library": "var_list.py",
     "varRefreshCmd": "print(var_dic_list())"
    },
    "r": {
     "delete_cmd_postfix": ") ",
     "delete_cmd_prefix": "rm(",
     "library": "var_list.r",
     "varRefreshCmd": "cat(var_dic_list()) "
    }
   },
   "types_to_exclude": [
    "module",
    "function",
    "builtin_function_or_method",
    "instance",
    "_Feature"
   ],
   "window_display": false
  }
 },
 "nbformat": 4,
 "nbformat_minor": 4
}
